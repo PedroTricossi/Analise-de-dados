{
  "nbformat": 4,
  "nbformat_minor": 0,
  "metadata": {
    "colab": {
      "name": "Classificação_MNISTfashion_CNN.ipynb",
      "provenance": [],
      "authorship_tag": "ABX9TyNAO7m/nlZSl0XBsG+vQ1s4",
      "include_colab_link": true
    },
    "kernelspec": {
      "name": "python3",
      "display_name": "Python 3"
    },
    "accelerator": "GPU"
  },
  "cells": [
    {
      "cell_type": "markdown",
      "metadata": {
        "id": "view-in-github",
        "colab_type": "text"
      },
      "source": [
        "<a href=\"https://colab.research.google.com/github/PedroTricossi/Analise-de-dados/blob/master/Classifica%C3%A7%C3%A3o_MNISTfashion_CNN.ipynb\" target=\"_parent\"><img src=\"https://colab.research.google.com/assets/colab-badge.svg\" alt=\"Open In Colab\"/></a>"
      ]
    },
    {
      "cell_type": "markdown",
      "metadata": {
        "id": "HqzucvSs5PFD",
        "colab_type": "text"
      },
      "source": [
        "# **Modelo de classificação do dataset MNIST feshion utilizando redes neurais convolutivas(CNN)**"
      ]
    },
    {
      "cell_type": "markdown",
      "metadata": {
        "id": "_lTmUIBU5dnU",
        "colab_type": "text"
      },
      "source": [
        "### Importação das bibliotecas"
      ]
    },
    {
      "cell_type": "code",
      "metadata": {
        "id": "25TNWVW0Gjuc",
        "colab_type": "code",
        "colab": {}
      },
      "source": [
        "import math\n",
        "import logging\n",
        "import tensorflow as tf\n",
        "import numpy as np\n",
        "import matplotlib.pyplot as plt"
      ],
      "execution_count": 0,
      "outputs": []
    },
    {
      "cell_type": "code",
      "metadata": {
        "id": "P9PyDPunHKfV",
        "colab_type": "code",
        "colab": {}
      },
      "source": [
        "logger = tf.get_logger()\n",
        "logger.setLevel(logging.ERROR)"
      ],
      "execution_count": 0,
      "outputs": []
    },
    {
      "cell_type": "markdown",
      "metadata": {
        "id": "kp0RKhVw5k1r",
        "colab_type": "text"
      },
      "source": [
        "### Importação do dataset a ser utilizado"
      ]
    },
    {
      "cell_type": "code",
      "metadata": {
        "id": "9i2VDg4fG_GY",
        "colab_type": "code",
        "colab": {}
      },
      "source": [
        "#O próprio tf tem o dataset MNIST fashion, portanto impotamos dele para poupar esforço.\n",
        "import tensorflow_datasets as tfds\n",
        "tfds.disable_progress_bar()\n",
        "\n",
        "dataset, metadata = tfds.load('fashion_mnist', as_supervised=True, with_info=True)\n",
        "train_dataset, test_dataset = dataset['train'], dataset['test']"
      ],
      "execution_count": 0,
      "outputs": []
    },
    {
      "cell_type": "markdown",
      "metadata": {
        "id": "Mlq_ys9c5zut",
        "colab_type": "text"
      },
      "source": [
        "### Visualização do dataset"
      ]
    },
    {
      "cell_type": "code",
      "metadata": {
        "id": "vu_73t-EHejV",
        "colab_type": "code",
        "colab": {}
      },
      "source": [
        "#Para facilitar a leitura dos não falantes de inglês, coloquei as classes em português\n",
        "class_names = ['Camisera/top', 'Calça', 'Pullover', 'Vestido', 'Blusa',\n",
        "               'Sandalia',      'Camisa',   'Tênis',  'Bolsa',   'Bota alta']"
      ],
      "execution_count": 0,
      "outputs": []
    },
    {
      "cell_type": "code",
      "metadata": {
        "id": "tUsnTuzpHmZ0",
        "colab_type": "code",
        "colab": {
          "base_uri": "https://localhost:8080/",
          "height": 265
        },
        "outputId": "61c8041b-3a9f-47d3-8efa-0b4dd8eb6542"
      },
      "source": [
        "for image, label in test_dataset.take(1):\n",
        "  break\n",
        "image = image.numpy().reshape((28,28))\n",
        "\n",
        "plt.figure()\n",
        "plt.imshow(image, cmap=plt.cm.binary)\n",
        "plt.colorbar()\n",
        "plt.grid(False)\n",
        "plt.show()"
      ],
      "execution_count": 5,
      "outputs": [
        {
          "output_type": "display_data",
          "data": {
            "image/png": "[encoded data removed]",
            "text/plain": [
              "<Figure size 432x288 with 2 Axes>"
            ]
          },
          "metadata": {
            "tags": []
          }
        }
      ]
    },
    {
      "cell_type": "code",
      "metadata": {
        "id": "_Rx4u9EqH0pe",
        "colab_type": "code",
        "colab": {
          "base_uri": "https://localhost:8080/",
          "height": 589
        },
        "outputId": "a7da0dc9-dd0c-42d8-abf0-94dec5be00ed"
      },
      "source": [
        "#Ao invés de imprimir uma imagem por vez, podemos imprimir varias ao mesmo tempo, facilitando a visualização\n",
        "plt.figure(figsize=(10,10))\n",
        "i = 0\n",
        "for (image, label) in test_dataset.take(25):\n",
        "    image = image.numpy().reshape((28,28))\n",
        "    plt.subplot(5,5,i+1)\n",
        "    plt.xticks([])\n",
        "    plt.yticks([])\n",
        "    plt.grid(False)\n",
        "    plt.imshow(image, cmap=plt.cm.binary)\n",
        "    plt.xlabel(class_names[label])\n",
        "    i += 1\n",
        "plt.show()"
      ],
      "execution_count": 6,
      "outputs": [
        {
          "output_type": "display_data",
          "data": {
            "image/png": "[encoded data removed]",
            "text/plain": [
              "<Figure size 720x720 with 25 Axes>"
            ]
          },
          "metadata": {
            "tags": []
          }
        }
      ]
    },
    {
      "cell_type": "markdown",
      "metadata": {
        "id": "_6fsj6PI7DcN",
        "colab_type": "text"
      },
      "source": [
        "### Limpeza de dados"
      ]
    },
    {
      "cell_type": "code",
      "metadata": {
        "id": "jiui8w3SHe8c",
        "colab_type": "code",
        "colab": {
          "base_uri": "https://localhost:8080/",
          "height": 51
        },
        "outputId": "b6cf5073-1260-4671-ae8c-db544c86753e"
      },
      "source": [
        "#Separação do dataset em dois, uma parte maior para ser usada como treino e uma parte menor para ser usada como teste e avaliação do modelo.\n",
        "num_train_examples = metadata.splits['train'].num_examples\n",
        "num_test_examples = metadata.splits['test'].num_examples\n",
        "print(\"Numero de imagens utilizadas para treino: {}\".format(num_train_examples))\n",
        "print(\"Numero de imagens utilizadas para teste:  {}\".format(num_test_examples))"
      ],
      "execution_count": 7,
      "outputs": [
        {
          "output_type": "stream",
          "text": [
            "Numero de imagens utilizadas para treino: 60000\n",
            "Numero de imagens utilizadas para teste:  10000\n"
          ],
          "name": "stdout"
        }
      ]
    },
    {
      "cell_type": "code",
      "metadata": {
        "id": "yBxpdgYzHjFx",
        "colab_type": "code",
        "colab": {}
      },
      "source": [
        "# A normalização das imagens consiste em pegar um pixel com valores que variam [0, 255] e transformar para um valor [0, 1]\n",
        "def normalize(images, labels):\n",
        "  images = tf.cast(images, tf.float32)\n",
        "  images /= 255\n",
        "  return images, labels\n",
        "\n",
        "train_dataset =  train_dataset.map(normalize)\n",
        "test_dataset  =  test_dataset.map(normalize)\n",
        "\n",
        "#Para salvar os datasets na memôria\n",
        "train_dataset =  train_dataset.cache()\n",
        "test_dataset  =  test_dataset.cache()"
      ],
      "execution_count": 0,
      "outputs": []
    },
    {
      "cell_type": "markdown",
      "metadata": {
        "id": "edH72xce7qjy",
        "colab_type": "text"
      },
      "source": [
        "### Criação do modelo"
      ]
    },
    {
      "cell_type": "code",
      "metadata": {
        "id": "kZcKlB9yH5Te",
        "colab_type": "code",
        "colab": {}
      },
      "source": [
        "#Criação da rede neural, a primera parte(até o Flatten), é a parte da rede de convolução e maxpooling, que 'facilita' a vizualização das imagens\n",
        "#A segunda parte é a rede neural normal, essa contendo uma camada de 256 neurônios.\n",
        "model = tf.keras.Sequential([\n",
        "    tf.keras.layers.Conv2D(32, (3,3), padding='same', activation=tf.nn.relu,\n",
        "                           input_shape=(28, 28, 1)),\n",
        "    tf.keras.layers.MaxPooling2D((2, 2), strides=2),\n",
        "    tf.keras.layers.Conv2D(64, (3,3), padding='same', activation=tf.nn.relu),\n",
        "    tf.keras.layers.MaxPooling2D((2, 2), strides=2),\n",
        "    tf.keras.layers.Flatten(),\n",
        "    tf.keras.layers.Dense(256, activation=tf.nn.relu),\n",
        "    tf.keras.layers.Dense(10)\n",
        "])"
      ],
      "execution_count": 0,
      "outputs": []
    },
    {
      "cell_type": "code",
      "metadata": {
        "id": "A24WtnnhH9JY",
        "colab_type": "code",
        "colab": {}
      },
      "source": [
        "#Definição do optimizados e de como será feita a medição de erro da rede.\n",
        "model.compile(optimizer='adam',\n",
        "              loss=tf.keras.losses.SparseCategoricalCrossentropy(from_logits=True),\n",
        "              metrics=['accuracy'])"
      ],
      "execution_count": 0,
      "outputs": []
    },
    {
      "cell_type": "code",
      "metadata": {
        "id": "AUWfIFTIH_ym",
        "colab_type": "code",
        "colab": {}
      },
      "source": [
        "#Definição de quantas imagens serão treinadas por vez, para aumentar a velocidade de treino\n",
        "#42 pois é a resposta para tudo no universo, não é mesmo?\n",
        "BATCH_SIZE = 42\n",
        "train_dataset = train_dataset.cache().repeat().shuffle(num_train_examples).batch(BATCH_SIZE)\n",
        "test_dataset = test_dataset.cache().batch(BATCH_SIZE)"
      ],
      "execution_count": 0,
      "outputs": []
    },
    {
      "cell_type": "markdown",
      "metadata": {
        "id": "Yziw19D67u-9",
        "colab_type": "text"
      },
      "source": [
        "### Treinamento do modelo"
      ]
    },
    {
      "cell_type": "code",
      "metadata": {
        "id": "EH3HDLmMICVY",
        "colab_type": "code",
        "colab": {
          "base_uri": "https://localhost:8080/",
          "height": 374
        },
        "outputId": "eba81215-306f-4939-decb-599493489fdf"
      },
      "source": [
        "#Treinamento da rede em si\n",
        "model.fit(train_dataset, epochs=10, steps_per_epoch=math.ceil(num_train_examples/BATCH_SIZE))"
      ],
      "execution_count": 12,
      "outputs": [
        {
          "output_type": "stream",
          "text": [
            "Epoch 1/10\n",
            "1429/1429 [==============================] - 4s 3ms/step - loss: 0.3872 - accuracy: 0.8614\n",
            "Epoch 2/10\n",
            "1429/1429 [==============================] - 4s 3ms/step - loss: 0.2529 - accuracy: 0.9080\n",
            "Epoch 3/10\n",
            "1429/1429 [==============================] - 4s 3ms/step - loss: 0.2043 - accuracy: 0.9254\n",
            "Epoch 4/10\n",
            "1429/1429 [==============================] - 4s 3ms/step - loss: 0.1708 - accuracy: 0.9376\n",
            "Epoch 5/10\n",
            "1429/1429 [==============================] - 4s 3ms/step - loss: 0.1447 - accuracy: 0.9463\n",
            "Epoch 6/10\n",
            "1429/1429 [==============================] - 4s 3ms/step - loss: 0.1213 - accuracy: 0.9550\n",
            "Epoch 7/10\n",
            "1429/1429 [==============================] - 4s 3ms/step - loss: 0.0972 - accuracy: 0.9634\n",
            "Epoch 8/10\n",
            "1429/1429 [==============================] - 4s 3ms/step - loss: 0.0793 - accuracy: 0.9703\n",
            "Epoch 9/10\n",
            "1429/1429 [==============================] - 4s 3ms/step - loss: 0.0640 - accuracy: 0.9766\n",
            "Epoch 10/10\n",
            "1429/1429 [==============================] - 4s 3ms/step - loss: 0.0541 - accuracy: 0.9804\n"
          ],
          "name": "stdout"
        },
        {
          "output_type": "execute_result",
          "data": {
            "text/plain": [
              "<tensorflow.python.keras.callbacks.History at 0x7fa639efc748>"
            ]
          },
          "metadata": {
            "tags": []
          },
          "execution_count": 12
        }
      ]
    },
    {
      "cell_type": "markdown",
      "metadata": {
        "id": "6bFgCQPu7y6D",
        "colab_type": "text"
      },
      "source": [
        "### Avaliação da precisão do modelo"
      ]
    },
    {
      "cell_type": "code",
      "metadata": {
        "id": "HYBLFBfMIFNd",
        "colab_type": "code",
        "colab": {
          "base_uri": "https://localhost:8080/",
          "height": 51
        },
        "outputId": "561e002b-1942-4798-84ce-a7bcc215657a"
      },
      "source": [
        "#Avaliação com imagens nunca antes vistas pela rede.\n",
        "est_loss, test_accuracy = model.evaluate(test_dataset, steps=math.ceil(num_test_examples/42))\n",
        "print('Accuracy on test dataset:', test_accuracy)"
      ],
      "execution_count": 13,
      "outputs": [
        {
          "output_type": "stream",
          "text": [
            "239/239 [==============================] - 2s 9ms/step - loss: 0.3129 - accuracy: 0.9243\n",
            "Accuracy on test dataset: 0.9243000149726868\n"
          ],
          "name": "stdout"
        }
      ]
    },
    {
      "cell_type": "code",
      "metadata": {
        "id": "eCJpXElGIIPW",
        "colab_type": "code",
        "colab": {}
      },
      "source": [
        ""
      ],
      "execution_count": 0,
      "outputs": []
    }
  ]
}